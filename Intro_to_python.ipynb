{
  "nbformat": 4,
  "nbformat_minor": 0,
  "metadata": {
    "colab": {
      "name": "Intro_to_python.ipynb",
      "provenance": [],
      "authorship_tag": "ABX9TyOKdR0ik1+tqFnNshY4EIYP",
      "include_colab_link": true
    },
    "kernelspec": {
      "name": "python3",
      "display_name": "Python 3"
    },
    "language_info": {
      "name": "python"
    }
  },
  "cells": [
    {
      "cell_type": "markdown",
      "metadata": {
        "id": "view-in-github",
        "colab_type": "text"
      },
      "source": [
        "<a href=\"https://colab.research.google.com/github/risavh/python_training/blob/main/Intro_to_python.ipynb\" target=\"_parent\"><img src=\"https://colab.research.google.com/assets/colab-badge.svg\" alt=\"Open In Colab\"/></a>"
      ]
    },
    {
      "cell_type": "markdown",
      "metadata": {
        "id": "AP-mx0EFwSaI"
      },
      "source": [
        "## Intorduction To Python"
      ]
    },
    {
      "cell_type": "code",
      "metadata": {
        "colab": {
          "base_uri": "https://localhost:8080/"
        },
        "id": "NCxS_ZOfv-zp",
        "outputId": "f9223144-1197-45c0-b858-ec7f131d9c41"
      },
      "source": [
        "print(\"Hello World!\")"
      ],
      "execution_count": null,
      "outputs": [
        {
          "output_type": "stream",
          "name": "stdout",
          "text": [
            "Hello World!\n"
          ]
        }
      ]
    },
    {
      "cell_type": "code",
      "metadata": {
        "colab": {
          "base_uri": "https://localhost:8080/"
        },
        "id": "0Z4z2mZfwW2r",
        "outputId": "ea290210-0d95-4adf-8327-83c7beb5750f"
      },
      "source": [
        "2+2"
      ],
      "execution_count": null,
      "outputs": [
        {
          "output_type": "execute_result",
          "data": {
            "text/plain": [
              "4"
            ]
          },
          "metadata": {},
          "execution_count": 40
        }
      ]
    },
    {
      "cell_type": "code",
      "metadata": {
        "colab": {
          "base_uri": "https://localhost:8080/"
        },
        "id": "bNCz2Kh5w3g8",
        "outputId": "1dbb334d-f1ea-4289-971a-50591137c4cb"
      },
      "source": [
        "10*2"
      ],
      "execution_count": null,
      "outputs": [
        {
          "output_type": "execute_result",
          "data": {
            "text/plain": [
              "20"
            ]
          },
          "metadata": {},
          "execution_count": 41
        }
      ]
    },
    {
      "cell_type": "code",
      "metadata": {
        "colab": {
          "base_uri": "https://localhost:8080/"
        },
        "id": "veTZxSWBw53m",
        "outputId": "223de461-6557-485c-844b-fc90e27e1797"
      },
      "source": [
        "numOfPlanes = 10\n",
        "numSeats = 200\n",
        "totalSeats =  numOfPlanes * numSeats\n",
        "print(totalSeats)"
      ],
      "execution_count": null,
      "outputs": [
        {
          "output_type": "stream",
          "name": "stdout",
          "text": [
            "2000\n"
          ]
        }
      ]
    },
    {
      "cell_type": "code",
      "metadata": {
        "colab": {
          "base_uri": "https://localhost:8080/"
        },
        "id": "I_PXKEPzxHoR",
        "outputId": "09a9dae0-ee91-4e78-f531-34b6ba38fda0"
      },
      "source": [
        "numPax = 180\n",
        "totalPax = numOfPlanes * numPax\n",
        "print(totalPax)"
      ],
      "execution_count": null,
      "outputs": [
        {
          "output_type": "stream",
          "name": "stdout",
          "text": [
            "1800\n"
          ]
        }
      ]
    },
    {
      "cell_type": "code",
      "metadata": {
        "colab": {
          "base_uri": "https://localhost:8080/",
          "height": 197
        },
        "id": "Ons5pESkxTpb",
        "outputId": "e335faa3-4112-4ba8-e03f-75fe258ea12b"
      },
      "source": [
        "x = 10 # Int\n",
        "y = \"20\" # str\n",
        "x + y"
      ],
      "execution_count": null,
      "outputs": [
        {
          "output_type": "error",
          "ename": "TypeError",
          "evalue": "ignored",
          "traceback": [
            "\u001b[0;31m---------------------------------------------------------------------------\u001b[0m",
            "\u001b[0;31mTypeError\u001b[0m                                 Traceback (most recent call last)",
            "\u001b[0;32m<ipython-input-44-a7c66ccede4e>\u001b[0m in \u001b[0;36m<module>\u001b[0;34m()\u001b[0m\n\u001b[1;32m      1\u001b[0m \u001b[0mx\u001b[0m \u001b[0;34m=\u001b[0m \u001b[0;36m10\u001b[0m \u001b[0;31m# Int\u001b[0m\u001b[0;34m\u001b[0m\u001b[0;34m\u001b[0m\u001b[0m\n\u001b[1;32m      2\u001b[0m \u001b[0my\u001b[0m \u001b[0;34m=\u001b[0m \u001b[0;34m\"20\"\u001b[0m \u001b[0;31m# str\u001b[0m\u001b[0;34m\u001b[0m\u001b[0;34m\u001b[0m\u001b[0m\n\u001b[0;32m----> 3\u001b[0;31m \u001b[0mx\u001b[0m \u001b[0;34m+\u001b[0m \u001b[0my\u001b[0m\u001b[0;34m\u001b[0m\u001b[0;34m\u001b[0m\u001b[0m\n\u001b[0m",
            "\u001b[0;31mTypeError\u001b[0m: unsupported operand type(s) for +: 'int' and 'str'"
          ]
        }
      ]
    },
    {
      "cell_type": "code",
      "metadata": {
        "colab": {
          "base_uri": "https://localhost:8080/"
        },
        "id": "JliSqPD7xwZ_",
        "outputId": "8ba3ae04-c4f7-4557-81bf-1f28aa39d0e3"
      },
      "source": [
        "type(x)"
      ],
      "execution_count": null,
      "outputs": [
        {
          "output_type": "execute_result",
          "data": {
            "text/plain": [
              "int"
            ]
          },
          "metadata": {},
          "execution_count": 45
        }
      ]
    },
    {
      "cell_type": "code",
      "metadata": {
        "colab": {
          "base_uri": "https://localhost:8080/"
        },
        "id": "pYGmgyOxx7np",
        "outputId": "bc17d6a8-9bc1-4029-ec27-5566891ae7d8"
      },
      "source": [
        "type(y)"
      ],
      "execution_count": null,
      "outputs": [
        {
          "output_type": "execute_result",
          "data": {
            "text/plain": [
              "str"
            ]
          },
          "metadata": {},
          "execution_count": 46
        }
      ]
    },
    {
      "cell_type": "markdown",
      "metadata": {
        "id": "6pHukGiXyBbq"
      },
      "source": [
        "## Casting"
      ]
    },
    {
      "cell_type": "code",
      "metadata": {
        "colab": {
          "base_uri": "https://localhost:8080/"
        },
        "id": "43LhfsZAx8qJ",
        "outputId": "3209bc40-5d75-4a83-d963-c437c9d9475b"
      },
      "source": [
        "x = 10 # Int\n",
        "y = \"20\" # str\n",
        "x + int(y)"
      ],
      "execution_count": null,
      "outputs": [
        {
          "output_type": "execute_result",
          "data": {
            "text/plain": [
              "30"
            ]
          },
          "metadata": {},
          "execution_count": 47
        }
      ]
    },
    {
      "cell_type": "code",
      "metadata": {
        "colab": {
          "base_uri": "https://localhost:8080/",
          "height": 35
        },
        "id": "PW6BKNCAyIhX",
        "outputId": "a97ca01d-7239-4f20-be78-3b5e62a63e00"
      },
      "source": [
        "x = \"10\"\n",
        "y = \"20\"\n",
        "x + y"
      ],
      "execution_count": null,
      "outputs": [
        {
          "output_type": "execute_result",
          "data": {
            "application/vnd.google.colaboratory.intrinsic+json": {
              "type": "string"
            },
            "text/plain": [
              "'1020'"
            ]
          },
          "metadata": {},
          "execution_count": 48
        }
      ]
    },
    {
      "cell_type": "code",
      "metadata": {
        "colab": {
          "base_uri": "https://localhost:8080/"
        },
        "id": "RpWkV5SryWi6",
        "outputId": "a0ada718-7364-4374-e520-c63f603df2f8"
      },
      "source": [
        "x = 10\n",
        "y = 10\n",
        "x==y"
      ],
      "execution_count": null,
      "outputs": [
        {
          "output_type": "execute_result",
          "data": {
            "text/plain": [
              "True"
            ]
          },
          "metadata": {},
          "execution_count": 49
        }
      ]
    },
    {
      "cell_type": "code",
      "metadata": {
        "colab": {
          "base_uri": "https://localhost:8080/"
        },
        "id": "1TQ4Kq50zDDq",
        "outputId": "17343990-590b-4b94-b261-1fcefeeebf9b"
      },
      "source": [
        "x = 10\n",
        "y = 7\n",
        "x==y"
      ],
      "execution_count": null,
      "outputs": [
        {
          "output_type": "execute_result",
          "data": {
            "text/plain": [
              "False"
            ]
          },
          "metadata": {},
          "execution_count": 50
        }
      ]
    },
    {
      "cell_type": "code",
      "metadata": {
        "colab": {
          "base_uri": "https://localhost:8080/"
        },
        "id": "z_m_zYXAzFMV",
        "outputId": "5f19f113-a358-430c-c474-f7fbc020fdff"
      },
      "source": [
        "x =\"Hello\"\n",
        "y = \"Hello\"\n",
        "x == y"
      ],
      "execution_count": null,
      "outputs": [
        {
          "output_type": "execute_result",
          "data": {
            "text/plain": [
              "True"
            ]
          },
          "metadata": {},
          "execution_count": 51
        }
      ]
    },
    {
      "cell_type": "code",
      "metadata": {
        "colab": {
          "base_uri": "https://localhost:8080/"
        },
        "id": "8QzX2GYKzLIS",
        "outputId": "1459349e-5346-4946-d108-ac5e85308d71"
      },
      "source": [
        "print(\"=\"*100)"
      ],
      "execution_count": null,
      "outputs": [
        {
          "output_type": "stream",
          "name": "stdout",
          "text": [
            "====================================================================================================\n"
          ]
        }
      ]
    },
    {
      "cell_type": "code",
      "metadata": {
        "colab": {
          "base_uri": "https://localhost:8080/"
        },
        "id": "-xUK9qqu0cTV",
        "outputId": "957e8050-f6bb-45d2-d35c-df8608ea8ed4"
      },
      "source": [
        "print(\"Jetstar-\"*100)"
      ],
      "execution_count": null,
      "outputs": [
        {
          "output_type": "stream",
          "name": "stdout",
          "text": [
            "Jetstar-Jetstar-Jetstar-Jetstar-Jetstar-Jetstar-Jetstar-Jetstar-Jetstar-Jetstar-Jetstar-Jetstar-Jetstar-Jetstar-Jetstar-Jetstar-Jetstar-Jetstar-Jetstar-Jetstar-Jetstar-Jetstar-Jetstar-Jetstar-Jetstar-Jetstar-Jetstar-Jetstar-Jetstar-Jetstar-Jetstar-Jetstar-Jetstar-Jetstar-Jetstar-Jetstar-Jetstar-Jetstar-Jetstar-Jetstar-Jetstar-Jetstar-Jetstar-Jetstar-Jetstar-Jetstar-Jetstar-Jetstar-Jetstar-Jetstar-Jetstar-Jetstar-Jetstar-Jetstar-Jetstar-Jetstar-Jetstar-Jetstar-Jetstar-Jetstar-Jetstar-Jetstar-Jetstar-Jetstar-Jetstar-Jetstar-Jetstar-Jetstar-Jetstar-Jetstar-Jetstar-Jetstar-Jetstar-Jetstar-Jetstar-Jetstar-Jetstar-Jetstar-Jetstar-Jetstar-Jetstar-Jetstar-Jetstar-Jetstar-Jetstar-Jetstar-Jetstar-Jetstar-Jetstar-Jetstar-Jetstar-Jetstar-Jetstar-Jetstar-Jetstar-Jetstar-Jetstar-Jetstar-Jetstar-Jetstar-\n"
          ]
        }
      ]
    },
    {
      "cell_type": "code",
      "metadata": {
        "colab": {
          "base_uri": "https://localhost:8080/"
        },
        "id": "5WEkcE9X0gay",
        "outputId": "bafc1819-e591-407d-d678-65e387221da0"
      },
      "source": [
        "x = \"JetStar\"\n",
        "x = x.upper()\n",
        "print(x)"
      ],
      "execution_count": null,
      "outputs": [
        {
          "output_type": "stream",
          "name": "stdout",
          "text": [
            "JETSTAR\n"
          ]
        }
      ]
    },
    {
      "cell_type": "code",
      "metadata": {
        "colab": {
          "base_uri": "https://localhost:8080/"
        },
        "id": "uVead9-h0ppB",
        "outputId": "da738718-294b-43d4-e761-1b15fe056cd4"
      },
      "source": [
        "x = \"JetStar\"\n",
        "x = x.lower()\n",
        "print(x)"
      ],
      "execution_count": null,
      "outputs": [
        {
          "output_type": "stream",
          "name": "stdout",
          "text": [
            "jetstar\n"
          ]
        }
      ]
    },
    {
      "cell_type": "code",
      "metadata": {
        "colab": {
          "base_uri": "https://localhost:8080/"
        },
        "id": "TJIePsOJ0tqy",
        "outputId": "e5927e31-e9ff-4b0f-b349-74d18386f90b"
      },
      "source": [
        "print(dir(str))"
      ],
      "execution_count": null,
      "outputs": [
        {
          "output_type": "stream",
          "name": "stdout",
          "text": [
            "['__add__', '__class__', '__contains__', '__delattr__', '__dir__', '__doc__', '__eq__', '__format__', '__ge__', '__getattribute__', '__getitem__', '__getnewargs__', '__gt__', '__hash__', '__init__', '__init_subclass__', '__iter__', '__le__', '__len__', '__lt__', '__mod__', '__mul__', '__ne__', '__new__', '__reduce__', '__reduce_ex__', '__repr__', '__rmod__', '__rmul__', '__setattr__', '__sizeof__', '__str__', '__subclasshook__', 'capitalize', 'casefold', 'center', 'count', 'encode', 'endswith', 'expandtabs', 'find', 'format', 'format_map', 'index', 'isalnum', 'isalpha', 'isascii', 'isdecimal', 'isdigit', 'isidentifier', 'islower', 'isnumeric', 'isprintable', 'isspace', 'istitle', 'isupper', 'join', 'ljust', 'lower', 'lstrip', 'maketrans', 'partition', 'replace', 'rfind', 'rindex', 'rjust', 'rpartition', 'rsplit', 'rstrip', 'split', 'splitlines', 'startswith', 'strip', 'swapcase', 'title', 'translate', 'upper', 'zfill']\n"
          ]
        }
      ]
    },
    {
      "cell_type": "code",
      "metadata": {
        "colab": {
          "base_uri": "https://localhost:8080/"
        },
        "id": "nmaiL-8N00g5",
        "outputId": "5f206d3e-e8c3-466d-ba60-ca5b49b086e7"
      },
      "source": [
        "print(dir(x))"
      ],
      "execution_count": null,
      "outputs": [
        {
          "output_type": "stream",
          "name": "stdout",
          "text": [
            "['__add__', '__class__', '__contains__', '__delattr__', '__dir__', '__doc__', '__eq__', '__format__', '__ge__', '__getattribute__', '__getitem__', '__getnewargs__', '__gt__', '__hash__', '__init__', '__init_subclass__', '__iter__', '__le__', '__len__', '__lt__', '__mod__', '__mul__', '__ne__', '__new__', '__reduce__', '__reduce_ex__', '__repr__', '__rmod__', '__rmul__', '__setattr__', '__sizeof__', '__str__', '__subclasshook__', 'capitalize', 'casefold', 'center', 'count', 'encode', 'endswith', 'expandtabs', 'find', 'format', 'format_map', 'index', 'isalnum', 'isalpha', 'isascii', 'isdecimal', 'isdigit', 'isidentifier', 'islower', 'isnumeric', 'isprintable', 'isspace', 'istitle', 'isupper', 'join', 'ljust', 'lower', 'lstrip', 'maketrans', 'partition', 'replace', 'rfind', 'rindex', 'rjust', 'rpartition', 'rsplit', 'rstrip', 'split', 'splitlines', 'startswith', 'strip', 'swapcase', 'title', 'translate', 'upper', 'zfill']\n"
          ]
        }
      ]
    },
    {
      "cell_type": "code",
      "metadata": {
        "colab": {
          "base_uri": "https://localhost:8080/"
        },
        "id": "xzB2nnNP0-tB",
        "outputId": "bc7f2aa7-bea6-4c84-d95d-c7f413770118"
      },
      "source": [
        "print(dir(int))"
      ],
      "execution_count": null,
      "outputs": [
        {
          "output_type": "stream",
          "name": "stdout",
          "text": [
            "['__abs__', '__add__', '__and__', '__bool__', '__ceil__', '__class__', '__delattr__', '__dir__', '__divmod__', '__doc__', '__eq__', '__float__', '__floor__', '__floordiv__', '__format__', '__ge__', '__getattribute__', '__getnewargs__', '__gt__', '__hash__', '__index__', '__init__', '__init_subclass__', '__int__', '__invert__', '__le__', '__lshift__', '__lt__', '__mod__', '__mul__', '__ne__', '__neg__', '__new__', '__or__', '__pos__', '__pow__', '__radd__', '__rand__', '__rdivmod__', '__reduce__', '__reduce_ex__', '__repr__', '__rfloordiv__', '__rlshift__', '__rmod__', '__rmul__', '__ror__', '__round__', '__rpow__', '__rrshift__', '__rshift__', '__rsub__', '__rtruediv__', '__rxor__', '__setattr__', '__sizeof__', '__str__', '__sub__', '__subclasshook__', '__truediv__', '__trunc__', '__xor__', 'bit_length', 'conjugate', 'denominator', 'from_bytes', 'imag', 'numerator', 'real', 'to_bytes']\n"
          ]
        }
      ]
    },
    {
      "cell_type": "code",
      "metadata": {
        "colab": {
          "base_uri": "https://localhost:8080/"
        },
        "id": "R88xhjfA1C1l",
        "outputId": "c87af187-4b30-4809-9da4-b95dca6b364d"
      },
      "source": [
        "numOfPlanes = 10\n",
        "numSeats = 200\n",
        "totalSeats =  numOfPlanes * numSeats\n",
        "print(\"Total Number of Seats : \" + str(totalSeats))"
      ],
      "execution_count": null,
      "outputs": [
        {
          "output_type": "stream",
          "name": "stdout",
          "text": [
            "Total Number of Seats : 2000\n"
          ]
        }
      ]
    },
    {
      "cell_type": "code",
      "metadata": {
        "colab": {
          "base_uri": "https://localhost:8080/"
        },
        "id": "xx9Bnt7f1Kks",
        "outputId": "b6c48c8c-e68a-4fa3-b536-8e849c4cda51"
      },
      "source": [
        "x = \"\"\"My name is \n",
        "Rishabh \n",
        "dkjsk\n",
        "sdksajd\n",
        "jksdaks \"\"\"\n",
        "print(x)"
      ],
      "execution_count": null,
      "outputs": [
        {
          "output_type": "stream",
          "name": "stdout",
          "text": [
            "My name is \n",
            "Rishabh \n",
            "dkjsk\n",
            "sdksajd\n",
            "jksdaks \n"
          ]
        }
      ]
    },
    {
      "cell_type": "code",
      "metadata": {
        "colab": {
          "base_uri": "https://localhost:8080/"
        },
        "id": "3ELurakM1nu6",
        "outputId": "21b85968-aa37-4ee5-8116-1877dbe6a349"
      },
      "source": [
        "x =\"My nanme is Riusbahj \\n skdasfdhsajdl sadllsakjd ksadkjsa \\n saksad sakdsaj \\\\n here\"\n",
        "print(x)"
      ],
      "execution_count": null,
      "outputs": [
        {
          "output_type": "stream",
          "name": "stdout",
          "text": [
            "My nanme is Riusbahj \n",
            " skdasfdhsajdl sadllsakjd ksadkjsa \n",
            " saksad sakdsaj \\n here\n"
          ]
        }
      ]
    },
    {
      "cell_type": "code",
      "metadata": {
        "id": "8yN5ET-G14EK"
      },
      "source": [
        "x =10"
      ],
      "execution_count": null,
      "outputs": []
    },
    {
      "cell_type": "code",
      "metadata": {
        "colab": {
          "base_uri": "https://localhost:8080/"
        },
        "id": "YWY7A9UQ2GW-",
        "outputId": "5a203dbb-14d5-4ece-d925-8555cdf1c8e5"
      },
      "source": [
        "print(x)"
      ],
      "execution_count": null,
      "outputs": [
        {
          "output_type": "stream",
          "name": "stdout",
          "text": [
            "10\n"
          ]
        }
      ]
    },
    {
      "cell_type": "code",
      "metadata": {
        "colab": {
          "base_uri": "https://localhost:8080/"
        },
        "id": "1BZal7iZ2Jhx",
        "outputId": "51102eea-56cf-489c-a5ad-40123758fff8"
      },
      "source": [
        "numOfPlanes = 10\n",
        "numSeats = 200\n",
        "totalSeats =  numOfPlanes * numSeats\n",
        "print(\"Total Number of Seats : \" + str(totalSeats))"
      ],
      "execution_count": null,
      "outputs": [
        {
          "output_type": "stream",
          "name": "stdout",
          "text": [
            "Total Number of Seats : 2000\n"
          ]
        }
      ]
    },
    {
      "cell_type": "code",
      "metadata": {
        "colab": {
          "base_uri": "https://localhost:8080/"
        },
        "id": "OEpquYtV2pOG",
        "outputId": "3378aea7-b9bb-48e9-cec5-307d3ea2cae4"
      },
      "source": [
        "numOfPlanes = 10 # This is Number of Planes\n",
        "numSeats = 200  # This is Number of seats\n",
        "totalSeats =  numOfPlanes * numSeats\n",
        "print(\"Total Number of Seats : {}\".format(totalSeats))"
      ],
      "execution_count": null,
      "outputs": [
        {
          "output_type": "stream",
          "name": "stdout",
          "text": [
            "Total Number of Seats : 2000\n"
          ]
        }
      ]
    },
    {
      "cell_type": "markdown",
      "metadata": {
        "id": "tmUgVnGl2dML"
      },
      "source": [
        "## Range"
      ]
    },
    {
      "cell_type": "code",
      "metadata": {
        "id": "WKlQQCLz2wGj",
        "outputId": "b61a1367-e155-45d2-b29c-ab4332e9e87b",
        "colab": {
          "base_uri": "https://localhost:8080/"
        }
      },
      "source": [
        "list(range(10))"
      ],
      "execution_count": 1,
      "outputs": [
        {
          "output_type": "execute_result",
          "data": {
            "text/plain": [
              "[0, 1, 2, 3, 4, 5, 6, 7, 8, 9]"
            ]
          },
          "metadata": {},
          "execution_count": 1
        }
      ]
    },
    {
      "cell_type": "code",
      "metadata": {
        "id": "Zft3_SbN2jae",
        "outputId": "efb687ec-d07c-4dad-f478-8584f06c6aa8",
        "colab": {
          "base_uri": "https://localhost:8080/"
        }
      },
      "source": [
        "list(range(0,100,5))"
      ],
      "execution_count": 2,
      "outputs": [
        {
          "output_type": "execute_result",
          "data": {
            "text/plain": [
              "[0, 5, 10, 15, 20, 25, 30, 35, 40, 45, 50, 55, 60, 65, 70, 75, 80, 85, 90, 95]"
            ]
          },
          "metadata": {},
          "execution_count": 2
        }
      ]
    },
    {
      "cell_type": "markdown",
      "metadata": {
        "id": "qIv98Llz3AOG"
      },
      "source": [
        "## Slicing"
      ]
    },
    {
      "cell_type": "code",
      "metadata": {
        "id": "YB45NnhD223x",
        "outputId": "939d1cfc-8313-4d72-a779-fc06823fbdd4",
        "colab": {
          "base_uri": "https://localhost:8080/"
        }
      },
      "source": [
        "nums=list(range(0,100,5))\n",
        "print(nums)"
      ],
      "execution_count": 3,
      "outputs": [
        {
          "output_type": "stream",
          "name": "stdout",
          "text": [
            "[0, 5, 10, 15, 20, 25, 30, 35, 40, 45, 50, 55, 60, 65, 70, 75, 80, 85, 90, 95]\n"
          ]
        }
      ]
    },
    {
      "cell_type": "code",
      "metadata": {
        "id": "YE5nN8wF3Egy",
        "outputId": "d39cf53a-d224-47e8-8412-87f0a2cb3e11",
        "colab": {
          "base_uri": "https://localhost:8080/"
        }
      },
      "source": [
        "len(nums)"
      ],
      "execution_count": 4,
      "outputs": [
        {
          "output_type": "execute_result",
          "data": {
            "text/plain": [
              "20"
            ]
          },
          "metadata": {},
          "execution_count": 4
        }
      ]
    },
    {
      "cell_type": "code",
      "metadata": {
        "id": "374jT9bl3GLC",
        "outputId": "86aa6842-a829-4e28-a599-dabd66186690",
        "colab": {
          "base_uri": "https://localhost:8080/"
        }
      },
      "source": [
        "nums[1]"
      ],
      "execution_count": 5,
      "outputs": [
        {
          "output_type": "execute_result",
          "data": {
            "text/plain": [
              "5"
            ]
          },
          "metadata": {},
          "execution_count": 5
        }
      ]
    },
    {
      "cell_type": "code",
      "metadata": {
        "id": "Ni7-Flw83Izq",
        "outputId": "fd5da91c-0e28-4818-d23c-d2375cd6edc8",
        "colab": {
          "base_uri": "https://localhost:8080/"
        }
      },
      "source": [
        "nums[:3]"
      ],
      "execution_count": 6,
      "outputs": [
        {
          "output_type": "execute_result",
          "data": {
            "text/plain": [
              "[0, 5, 10]"
            ]
          },
          "metadata": {},
          "execution_count": 6
        }
      ]
    },
    {
      "cell_type": "code",
      "metadata": {
        "id": "TL5TdB7M3Oon",
        "outputId": "0d7ea52e-8ee6-4039-ce70-ef5cbe97dd63",
        "colab": {
          "base_uri": "https://localhost:8080/"
        }
      },
      "source": [
        "nums[-3:]"
      ],
      "execution_count": 8,
      "outputs": [
        {
          "output_type": "execute_result",
          "data": {
            "text/plain": [
              "[85, 90, 95]"
            ]
          },
          "metadata": {},
          "execution_count": 8
        }
      ]
    },
    {
      "cell_type": "markdown",
      "metadata": {
        "id": "w4uNdwyX4RFK"
      },
      "source": [
        "## Mutable objects\n",
        "\n",
        "> List are mutable\n",
        "\n"
      ]
    },
    {
      "cell_type": "code",
      "metadata": {
        "id": "smMLkj1j30zx"
      },
      "source": [
        "fruits=[\"apples\",\"orange\",\"tomato\",\"banana\"]"
      ],
      "execution_count": 9,
      "outputs": []
    },
    {
      "cell_type": "code",
      "metadata": {
        "id": "t74yHbNd4YDS"
      },
      "source": [
        "fruits[2]=\"apricot\""
      ],
      "execution_count": 10,
      "outputs": []
    },
    {
      "cell_type": "code",
      "metadata": {
        "id": "GonlZTav4cnb",
        "outputId": "e95ca6bd-3122-43d2-b2e3-432b54a4361c",
        "colab": {
          "base_uri": "https://localhost:8080/"
        }
      },
      "source": [
        "fruits"
      ],
      "execution_count": 11,
      "outputs": [
        {
          "output_type": "execute_result",
          "data": {
            "text/plain": [
              "['apples', 'orange', 'apricot', 'banana']"
            ]
          },
          "metadata": {},
          "execution_count": 11
        }
      ]
    },
    {
      "cell_type": "code",
      "metadata": {
        "id": "d_KicX1t4e3a"
      },
      "source": [
        "fruits_tuples=(\"apples\",\"orange\",\"tomato\",\"banana\")"
      ],
      "execution_count": 12,
      "outputs": []
    },
    {
      "cell_type": "code",
      "metadata": {
        "id": "xLfBomCU4sWI",
        "outputId": "0c9753ca-1696-4810-bef8-040799cadb98",
        "colab": {
          "base_uri": "https://localhost:8080/"
        }
      },
      "source": [
        "type(fruits_tuples)"
      ],
      "execution_count": 13,
      "outputs": [
        {
          "output_type": "execute_result",
          "data": {
            "text/plain": [
              "tuple"
            ]
          },
          "metadata": {},
          "execution_count": 13
        }
      ]
    },
    {
      "cell_type": "code",
      "metadata": {
        "id": "h1wNF90g4uTF",
        "outputId": "0d4a071b-c364-47a4-8b1b-99f3e803ce9d",
        "colab": {
          "base_uri": "https://localhost:8080/"
        }
      },
      "source": [
        "type(fruits)"
      ],
      "execution_count": 14,
      "outputs": [
        {
          "output_type": "execute_result",
          "data": {
            "text/plain": [
              "list"
            ]
          },
          "metadata": {},
          "execution_count": 14
        }
      ]
    },
    {
      "cell_type": "code",
      "metadata": {
        "id": "GJcHjrbD4wOS",
        "outputId": "775315a2-070a-4d99-eef0-4d82b1f786e9",
        "colab": {
          "base_uri": "https://localhost:8080/",
          "height": 165
        }
      },
      "source": [
        "fruits_tuples[2]=\"apricot\""
      ],
      "execution_count": 15,
      "outputs": [
        {
          "output_type": "error",
          "ename": "TypeError",
          "evalue": "ignored",
          "traceback": [
            "\u001b[0;31m---------------------------------------------------------------------------\u001b[0m",
            "\u001b[0;31mTypeError\u001b[0m                                 Traceback (most recent call last)",
            "\u001b[0;32m<ipython-input-15-c4952f235975>\u001b[0m in \u001b[0;36m<module>\u001b[0;34m()\u001b[0m\n\u001b[0;32m----> 1\u001b[0;31m \u001b[0mfruits_tuples\u001b[0m\u001b[0;34m[\u001b[0m\u001b[0;36m2\u001b[0m\u001b[0;34m]\u001b[0m\u001b[0;34m=\u001b[0m\u001b[0;34m\"apricot\"\u001b[0m\u001b[0;34m\u001b[0m\u001b[0;34m\u001b[0m\u001b[0m\n\u001b[0m",
            "\u001b[0;31mTypeError\u001b[0m: 'tuple' object does not support item assignment"
          ]
        }
      ]
    },
    {
      "cell_type": "markdown",
      "metadata": {
        "id": "ziT_bNNa5hj_"
      },
      "source": [
        "## Dictonary"
      ]
    },
    {
      "cell_type": "code",
      "metadata": {
        "id": "bpx9cAv94zz3"
      },
      "source": [
        "d1 = {\"SYD\":10000, \"MEL\":90,\"BNE\":1538,\"SYD\":9372}"
      ],
      "execution_count": 21,
      "outputs": []
    },
    {
      "cell_type": "code",
      "metadata": {
        "id": "txsY7J9h5tbU",
        "outputId": "b337aae1-96b9-4485-b878-20d2d7db92d3",
        "colab": {
          "base_uri": "https://localhost:8080/"
        }
      },
      "source": [
        "d1"
      ],
      "execution_count": 22,
      "outputs": [
        {
          "output_type": "execute_result",
          "data": {
            "text/plain": [
              "{'BNE': 1538, 'MEL': 90, 'SYD': 9372}"
            ]
          },
          "metadata": {},
          "execution_count": 22
        }
      ]
    },
    {
      "cell_type": "code",
      "metadata": {
        "id": "et9ogfxI5uWA",
        "outputId": "1dbfb923-581c-4402-f8e3-0396f6a4d21e",
        "colab": {
          "base_uri": "https://localhost:8080/"
        }
      },
      "source": [
        "d1[\"SYD\"]"
      ],
      "execution_count": 18,
      "outputs": [
        {
          "output_type": "execute_result",
          "data": {
            "text/plain": [
              "10000"
            ]
          },
          "metadata": {},
          "execution_count": 18
        }
      ]
    },
    {
      "cell_type": "code",
      "metadata": {
        "id": "HKgSv4hm5w2b"
      },
      "source": [
        "d1[\"SYD\"]=-99"
      ],
      "execution_count": 19,
      "outputs": []
    },
    {
      "cell_type": "code",
      "metadata": {
        "id": "gbTQeVEJ56q-",
        "outputId": "12a870c9-6b59-4072-ba01-8a81dd19e7bd",
        "colab": {
          "base_uri": "https://localhost:8080/"
        }
      },
      "source": [
        "d1"
      ],
      "execution_count": 20,
      "outputs": [
        {
          "output_type": "execute_result",
          "data": {
            "text/plain": [
              "{'BNE': 1538, 'MEL': 90, 'SYD': -99}"
            ]
          },
          "metadata": {},
          "execution_count": 20
        }
      ]
    },
    {
      "cell_type": "markdown",
      "metadata": {
        "id": "S1zVonY-6ycC"
      },
      "source": [
        "## Sets"
      ]
    },
    {
      "cell_type": "code",
      "metadata": {
        "id": "dLpVQ_K157LI"
      },
      "source": [
        "l1 =[1,2,3,4,5,5,5,5,5]"
      ],
      "execution_count": 23,
      "outputs": []
    },
    {
      "cell_type": "code",
      "metadata": {
        "id": "7QCDWVGz62Aj",
        "outputId": "749f1057-0954-4842-cb7e-e2cb121ffa9b",
        "colab": {
          "base_uri": "https://localhost:8080/"
        }
      },
      "source": [
        "type(l1)"
      ],
      "execution_count": 25,
      "outputs": [
        {
          "output_type": "execute_result",
          "data": {
            "text/plain": [
              "list"
            ]
          },
          "metadata": {},
          "execution_count": 25
        }
      ]
    },
    {
      "cell_type": "code",
      "metadata": {
        "id": "6PWAZPmY62lW",
        "outputId": "b9ae7b0f-a2e9-4db9-e9bb-1916dbdc7440",
        "colab": {
          "base_uri": "https://localhost:8080/"
        }
      },
      "source": [
        "s1 = {1,2,3,4,5,5,5,5,5}\n",
        "type(s1)"
      ],
      "execution_count": 27,
      "outputs": [
        {
          "output_type": "execute_result",
          "data": {
            "text/plain": [
              "set"
            ]
          },
          "metadata": {},
          "execution_count": 27
        }
      ]
    },
    {
      "cell_type": "code",
      "metadata": {
        "id": "jlhBPsmm6_qT",
        "outputId": "43c4ce5d-8d57-46d1-c678-8617b7f013ff",
        "colab": {
          "base_uri": "https://localhost:8080/"
        }
      },
      "source": [
        "s1"
      ],
      "execution_count": 28,
      "outputs": [
        {
          "output_type": "execute_result",
          "data": {
            "text/plain": [
              "{1, 2, 3, 4, 5}"
            ]
          },
          "metadata": {},
          "execution_count": 28
        }
      ]
    },
    {
      "cell_type": "code",
      "metadata": {
        "id": "xbxvOsWs7F4Y",
        "outputId": "be9890e3-5e3d-4272-9030-fb8b8c2e1b2e",
        "colab": {
          "base_uri": "https://localhost:8080/"
        }
      },
      "source": [
        "g1=set(l1)\n",
        "type(g1)"
      ],
      "execution_count": 29,
      "outputs": [
        {
          "output_type": "execute_result",
          "data": {
            "text/plain": [
              "set"
            ]
          },
          "metadata": {},
          "execution_count": 29
        }
      ]
    },
    {
      "cell_type": "code",
      "metadata": {
        "id": "2bsCW1YW7PMx",
        "outputId": "c5899298-f1f3-4694-ca2b-0436640053b2",
        "colab": {
          "base_uri": "https://localhost:8080/"
        }
      },
      "source": [
        "g1"
      ],
      "execution_count": 30,
      "outputs": [
        {
          "output_type": "execute_result",
          "data": {
            "text/plain": [
              "{1, 2, 3, 4, 5}"
            ]
          },
          "metadata": {},
          "execution_count": 30
        }
      ]
    },
    {
      "cell_type": "code",
      "metadata": {
        "id": "uIDVO3YZ7P_h"
      },
      "source": [
        "l2=list(g1)"
      ],
      "execution_count": 31,
      "outputs": []
    },
    {
      "cell_type": "code",
      "metadata": {
        "id": "7olUVVi07Su7",
        "outputId": "de0cf3df-860e-413b-b3ef-77df4c940a34",
        "colab": {
          "base_uri": "https://localhost:8080/"
        }
      },
      "source": [
        "type(l2)"
      ],
      "execution_count": 32,
      "outputs": [
        {
          "output_type": "execute_result",
          "data": {
            "text/plain": [
              "list"
            ]
          },
          "metadata": {},
          "execution_count": 32
        }
      ]
    },
    {
      "cell_type": "markdown",
      "metadata": {
        "id": "jqUp9DPO7zf7"
      },
      "source": [
        "## If Else"
      ]
    },
    {
      "cell_type": "code",
      "metadata": {
        "id": "DtgVBiJ67TsW",
        "outputId": "352d9827-6509-4d9e-fc1b-33e19d9b77e4",
        "colab": {
          "base_uri": "https://localhost:8080/"
        }
      },
      "source": [
        "a=10\n",
        "b=20\n",
        "\n",
        "if a>b:\n",
        "  print(\"a is greater than b\")\n",
        "elif a==b:\n",
        "  print(\"a is equal to b\")\n",
        "else:\n",
        "  print(\"b is greater than a\")\n",
        "\n",
        "\n",
        "print(\"Always print this!!\")"
      ],
      "execution_count": 41,
      "outputs": [
        {
          "output_type": "stream",
          "name": "stdout",
          "text": [
            "b is greater than a\n",
            "Always print this!!\n"
          ]
        }
      ]
    },
    {
      "cell_type": "code",
      "metadata": {
        "id": "f74HAo5R8Bo_"
      },
      "source": [
        ""
      ],
      "execution_count": null,
      "outputs": []
    }
  ]
}