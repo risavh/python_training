{
  "nbformat": 4,
  "nbformat_minor": 0,
  "metadata": {
    "colab": {
      "name": "Intro_to_python.ipynb",
      "provenance": [],
      "authorship_tag": "ABX9TyOtfjE2aqwrzoHXoGrxLp/q",
      "include_colab_link": true
    },
    "kernelspec": {
      "name": "python3",
      "display_name": "Python 3"
    },
    "language_info": {
      "name": "python"
    }
  },
  "cells": [
    {
      "cell_type": "markdown",
      "metadata": {
        "id": "view-in-github",
        "colab_type": "text"
      },
      "source": [
        "<a href=\"https://colab.research.google.com/github/risavh/python_training/blob/main/Intro_to_python.ipynb\" target=\"_parent\"><img src=\"https://colab.research.google.com/assets/colab-badge.svg\" alt=\"Open In Colab\"/></a>"
      ]
    },
    {
      "cell_type": "markdown",
      "metadata": {
        "id": "AP-mx0EFwSaI"
      },
      "source": [
        "## Intorduction To Python"
      ]
    },
    {
      "cell_type": "code",
      "metadata": {
        "colab": {
          "base_uri": "https://localhost:8080/"
        },
        "id": "NCxS_ZOfv-zp",
        "outputId": "f9223144-1197-45c0-b858-ec7f131d9c41"
      },
      "source": [
        "print(\"Hello World!\")"
      ],
      "execution_count": 39,
      "outputs": [
        {
          "output_type": "stream",
          "name": "stdout",
          "text": [
            "Hello World!\n"
          ]
        }
      ]
    },
    {
      "cell_type": "code",
      "metadata": {
        "colab": {
          "base_uri": "https://localhost:8080/"
        },
        "id": "0Z4z2mZfwW2r",
        "outputId": "ea290210-0d95-4adf-8327-83c7beb5750f"
      },
      "source": [
        "2+2"
      ],
      "execution_count": 40,
      "outputs": [
        {
          "output_type": "execute_result",
          "data": {
            "text/plain": [
              "4"
            ]
          },
          "metadata": {},
          "execution_count": 40
        }
      ]
    },
    {
      "cell_type": "code",
      "metadata": {
        "colab": {
          "base_uri": "https://localhost:8080/"
        },
        "id": "bNCz2Kh5w3g8",
        "outputId": "1dbb334d-f1ea-4289-971a-50591137c4cb"
      },
      "source": [
        "10*2"
      ],
      "execution_count": 41,
      "outputs": [
        {
          "output_type": "execute_result",
          "data": {
            "text/plain": [
              "20"
            ]
          },
          "metadata": {},
          "execution_count": 41
        }
      ]
    },
    {
      "cell_type": "code",
      "metadata": {
        "colab": {
          "base_uri": "https://localhost:8080/"
        },
        "id": "veTZxSWBw53m",
        "outputId": "223de461-6557-485c-844b-fc90e27e1797"
      },
      "source": [
        "numOfPlanes = 10\n",
        "numSeats = 200\n",
        "totalSeats =  numOfPlanes * numSeats\n",
        "print(totalSeats)"
      ],
      "execution_count": 42,
      "outputs": [
        {
          "output_type": "stream",
          "name": "stdout",
          "text": [
            "2000\n"
          ]
        }
      ]
    },
    {
      "cell_type": "code",
      "metadata": {
        "colab": {
          "base_uri": "https://localhost:8080/"
        },
        "id": "I_PXKEPzxHoR",
        "outputId": "09a9dae0-ee91-4e78-f531-34b6ba38fda0"
      },
      "source": [
        "numPax = 180\n",
        "totalPax = numOfPlanes * numPax\n",
        "print(totalPax)"
      ],
      "execution_count": 43,
      "outputs": [
        {
          "output_type": "stream",
          "name": "stdout",
          "text": [
            "1800\n"
          ]
        }
      ]
    },
    {
      "cell_type": "code",
      "metadata": {
        "colab": {
          "base_uri": "https://localhost:8080/",
          "height": 197
        },
        "id": "Ons5pESkxTpb",
        "outputId": "e335faa3-4112-4ba8-e03f-75fe258ea12b"
      },
      "source": [
        "x = 10 # Int\n",
        "y = \"20\" # str\n",
        "x + y"
      ],
      "execution_count": 44,
      "outputs": [
        {
          "output_type": "error",
          "ename": "TypeError",
          "evalue": "ignored",
          "traceback": [
            "\u001b[0;31m---------------------------------------------------------------------------\u001b[0m",
            "\u001b[0;31mTypeError\u001b[0m                                 Traceback (most recent call last)",
            "\u001b[0;32m<ipython-input-44-a7c66ccede4e>\u001b[0m in \u001b[0;36m<module>\u001b[0;34m()\u001b[0m\n\u001b[1;32m      1\u001b[0m \u001b[0mx\u001b[0m \u001b[0;34m=\u001b[0m \u001b[0;36m10\u001b[0m \u001b[0;31m# Int\u001b[0m\u001b[0;34m\u001b[0m\u001b[0;34m\u001b[0m\u001b[0m\n\u001b[1;32m      2\u001b[0m \u001b[0my\u001b[0m \u001b[0;34m=\u001b[0m \u001b[0;34m\"20\"\u001b[0m \u001b[0;31m# str\u001b[0m\u001b[0;34m\u001b[0m\u001b[0;34m\u001b[0m\u001b[0m\n\u001b[0;32m----> 3\u001b[0;31m \u001b[0mx\u001b[0m \u001b[0;34m+\u001b[0m \u001b[0my\u001b[0m\u001b[0;34m\u001b[0m\u001b[0;34m\u001b[0m\u001b[0m\n\u001b[0m",
            "\u001b[0;31mTypeError\u001b[0m: unsupported operand type(s) for +: 'int' and 'str'"
          ]
        }
      ]
    },
    {
      "cell_type": "code",
      "metadata": {
        "colab": {
          "base_uri": "https://localhost:8080/"
        },
        "id": "JliSqPD7xwZ_",
        "outputId": "8ba3ae04-c4f7-4557-81bf-1f28aa39d0e3"
      },
      "source": [
        "type(x)"
      ],
      "execution_count": 45,
      "outputs": [
        {
          "output_type": "execute_result",
          "data": {
            "text/plain": [
              "int"
            ]
          },
          "metadata": {},
          "execution_count": 45
        }
      ]
    },
    {
      "cell_type": "code",
      "metadata": {
        "colab": {
          "base_uri": "https://localhost:8080/"
        },
        "id": "pYGmgyOxx7np",
        "outputId": "bc17d6a8-9bc1-4029-ec27-5566891ae7d8"
      },
      "source": [
        "type(y)"
      ],
      "execution_count": 46,
      "outputs": [
        {
          "output_type": "execute_result",
          "data": {
            "text/plain": [
              "str"
            ]
          },
          "metadata": {},
          "execution_count": 46
        }
      ]
    },
    {
      "cell_type": "markdown",
      "metadata": {
        "id": "6pHukGiXyBbq"
      },
      "source": [
        "## Casting"
      ]
    },
    {
      "cell_type": "code",
      "metadata": {
        "colab": {
          "base_uri": "https://localhost:8080/"
        },
        "id": "43LhfsZAx8qJ",
        "outputId": "3209bc40-5d75-4a83-d963-c437c9d9475b"
      },
      "source": [
        "x = 10 # Int\n",
        "y = \"20\" # str\n",
        "x + int(y)"
      ],
      "execution_count": 47,
      "outputs": [
        {
          "output_type": "execute_result",
          "data": {
            "text/plain": [
              "30"
            ]
          },
          "metadata": {},
          "execution_count": 47
        }
      ]
    },
    {
      "cell_type": "code",
      "metadata": {
        "colab": {
          "base_uri": "https://localhost:8080/",
          "height": 35
        },
        "id": "PW6BKNCAyIhX",
        "outputId": "a97ca01d-7239-4f20-be78-3b5e62a63e00"
      },
      "source": [
        "x = \"10\"\n",
        "y = \"20\"\n",
        "x + y"
      ],
      "execution_count": 48,
      "outputs": [
        {
          "output_type": "execute_result",
          "data": {
            "application/vnd.google.colaboratory.intrinsic+json": {
              "type": "string"
            },
            "text/plain": [
              "'1020'"
            ]
          },
          "metadata": {},
          "execution_count": 48
        }
      ]
    },
    {
      "cell_type": "code",
      "metadata": {
        "colab": {
          "base_uri": "https://localhost:8080/"
        },
        "id": "RpWkV5SryWi6",
        "outputId": "a0ada718-7364-4374-e520-c63f603df2f8"
      },
      "source": [
        "x = 10\n",
        "y = 10\n",
        "x==y"
      ],
      "execution_count": 49,
      "outputs": [
        {
          "output_type": "execute_result",
          "data": {
            "text/plain": [
              "True"
            ]
          },
          "metadata": {},
          "execution_count": 49
        }
      ]
    },
    {
      "cell_type": "code",
      "metadata": {
        "colab": {
          "base_uri": "https://localhost:8080/"
        },
        "id": "1TQ4Kq50zDDq",
        "outputId": "17343990-590b-4b94-b261-1fcefeeebf9b"
      },
      "source": [
        "x = 10\n",
        "y = 7\n",
        "x==y"
      ],
      "execution_count": 50,
      "outputs": [
        {
          "output_type": "execute_result",
          "data": {
            "text/plain": [
              "False"
            ]
          },
          "metadata": {},
          "execution_count": 50
        }
      ]
    },
    {
      "cell_type": "code",
      "metadata": {
        "colab": {
          "base_uri": "https://localhost:8080/"
        },
        "id": "z_m_zYXAzFMV",
        "outputId": "5f19f113-a358-430c-c474-f7fbc020fdff"
      },
      "source": [
        "x =\"Hello\"\n",
        "y = \"Hello\"\n",
        "x == y"
      ],
      "execution_count": 51,
      "outputs": [
        {
          "output_type": "execute_result",
          "data": {
            "text/plain": [
              "True"
            ]
          },
          "metadata": {},
          "execution_count": 51
        }
      ]
    },
    {
      "cell_type": "code",
      "metadata": {
        "colab": {
          "base_uri": "https://localhost:8080/"
        },
        "id": "8QzX2GYKzLIS",
        "outputId": "1459349e-5346-4946-d108-ac5e85308d71"
      },
      "source": [
        "print(\"=\"*100)"
      ],
      "execution_count": 52,
      "outputs": [
        {
          "output_type": "stream",
          "name": "stdout",
          "text": [
            "====================================================================================================\n"
          ]
        }
      ]
    },
    {
      "cell_type": "code",
      "metadata": {
        "colab": {
          "base_uri": "https://localhost:8080/"
        },
        "id": "-xUK9qqu0cTV",
        "outputId": "957e8050-f6bb-45d2-d35c-df8608ea8ed4"
      },
      "source": [
        "print(\"Jetstar-\"*100)"
      ],
      "execution_count": 53,
      "outputs": [
        {
          "output_type": "stream",
          "name": "stdout",
          "text": [
            "Jetstar-Jetstar-Jetstar-Jetstar-Jetstar-Jetstar-Jetstar-Jetstar-Jetstar-Jetstar-Jetstar-Jetstar-Jetstar-Jetstar-Jetstar-Jetstar-Jetstar-Jetstar-Jetstar-Jetstar-Jetstar-Jetstar-Jetstar-Jetstar-Jetstar-Jetstar-Jetstar-Jetstar-Jetstar-Jetstar-Jetstar-Jetstar-Jetstar-Jetstar-Jetstar-Jetstar-Jetstar-Jetstar-Jetstar-Jetstar-Jetstar-Jetstar-Jetstar-Jetstar-Jetstar-Jetstar-Jetstar-Jetstar-Jetstar-Jetstar-Jetstar-Jetstar-Jetstar-Jetstar-Jetstar-Jetstar-Jetstar-Jetstar-Jetstar-Jetstar-Jetstar-Jetstar-Jetstar-Jetstar-Jetstar-Jetstar-Jetstar-Jetstar-Jetstar-Jetstar-Jetstar-Jetstar-Jetstar-Jetstar-Jetstar-Jetstar-Jetstar-Jetstar-Jetstar-Jetstar-Jetstar-Jetstar-Jetstar-Jetstar-Jetstar-Jetstar-Jetstar-Jetstar-Jetstar-Jetstar-Jetstar-Jetstar-Jetstar-Jetstar-Jetstar-Jetstar-Jetstar-Jetstar-Jetstar-Jetstar-\n"
          ]
        }
      ]
    },
    {
      "cell_type": "code",
      "metadata": {
        "colab": {
          "base_uri": "https://localhost:8080/"
        },
        "id": "5WEkcE9X0gay",
        "outputId": "bafc1819-e591-407d-d678-65e387221da0"
      },
      "source": [
        "x = \"JetStar\"\n",
        "x = x.upper()\n",
        "print(x)"
      ],
      "execution_count": 54,
      "outputs": [
        {
          "output_type": "stream",
          "name": "stdout",
          "text": [
            "JETSTAR\n"
          ]
        }
      ]
    },
    {
      "cell_type": "code",
      "metadata": {
        "colab": {
          "base_uri": "https://localhost:8080/"
        },
        "id": "uVead9-h0ppB",
        "outputId": "da738718-294b-43d4-e761-1b15fe056cd4"
      },
      "source": [
        "x = \"JetStar\"\n",
        "x = x.lower()\n",
        "print(x)"
      ],
      "execution_count": 55,
      "outputs": [
        {
          "output_type": "stream",
          "name": "stdout",
          "text": [
            "jetstar\n"
          ]
        }
      ]
    },
    {
      "cell_type": "code",
      "metadata": {
        "colab": {
          "base_uri": "https://localhost:8080/"
        },
        "id": "TJIePsOJ0tqy",
        "outputId": "e5927e31-e9ff-4b0f-b349-74d18386f90b"
      },
      "source": [
        "print(dir(str))"
      ],
      "execution_count": 56,
      "outputs": [
        {
          "output_type": "stream",
          "name": "stdout",
          "text": [
            "['__add__', '__class__', '__contains__', '__delattr__', '__dir__', '__doc__', '__eq__', '__format__', '__ge__', '__getattribute__', '__getitem__', '__getnewargs__', '__gt__', '__hash__', '__init__', '__init_subclass__', '__iter__', '__le__', '__len__', '__lt__', '__mod__', '__mul__', '__ne__', '__new__', '__reduce__', '__reduce_ex__', '__repr__', '__rmod__', '__rmul__', '__setattr__', '__sizeof__', '__str__', '__subclasshook__', 'capitalize', 'casefold', 'center', 'count', 'encode', 'endswith', 'expandtabs', 'find', 'format', 'format_map', 'index', 'isalnum', 'isalpha', 'isascii', 'isdecimal', 'isdigit', 'isidentifier', 'islower', 'isnumeric', 'isprintable', 'isspace', 'istitle', 'isupper', 'join', 'ljust', 'lower', 'lstrip', 'maketrans', 'partition', 'replace', 'rfind', 'rindex', 'rjust', 'rpartition', 'rsplit', 'rstrip', 'split', 'splitlines', 'startswith', 'strip', 'swapcase', 'title', 'translate', 'upper', 'zfill']\n"
          ]
        }
      ]
    },
    {
      "cell_type": "code",
      "metadata": {
        "colab": {
          "base_uri": "https://localhost:8080/"
        },
        "id": "nmaiL-8N00g5",
        "outputId": "5f206d3e-e8c3-466d-ba60-ca5b49b086e7"
      },
      "source": [
        "print(dir(x))"
      ],
      "execution_count": 57,
      "outputs": [
        {
          "output_type": "stream",
          "name": "stdout",
          "text": [
            "['__add__', '__class__', '__contains__', '__delattr__', '__dir__', '__doc__', '__eq__', '__format__', '__ge__', '__getattribute__', '__getitem__', '__getnewargs__', '__gt__', '__hash__', '__init__', '__init_subclass__', '__iter__', '__le__', '__len__', '__lt__', '__mod__', '__mul__', '__ne__', '__new__', '__reduce__', '__reduce_ex__', '__repr__', '__rmod__', '__rmul__', '__setattr__', '__sizeof__', '__str__', '__subclasshook__', 'capitalize', 'casefold', 'center', 'count', 'encode', 'endswith', 'expandtabs', 'find', 'format', 'format_map', 'index', 'isalnum', 'isalpha', 'isascii', 'isdecimal', 'isdigit', 'isidentifier', 'islower', 'isnumeric', 'isprintable', 'isspace', 'istitle', 'isupper', 'join', 'ljust', 'lower', 'lstrip', 'maketrans', 'partition', 'replace', 'rfind', 'rindex', 'rjust', 'rpartition', 'rsplit', 'rstrip', 'split', 'splitlines', 'startswith', 'strip', 'swapcase', 'title', 'translate', 'upper', 'zfill']\n"
          ]
        }
      ]
    },
    {
      "cell_type": "code",
      "metadata": {
        "colab": {
          "base_uri": "https://localhost:8080/"
        },
        "id": "xzB2nnNP0-tB",
        "outputId": "bc7f2aa7-bea6-4c84-d95d-c7f413770118"
      },
      "source": [
        "print(dir(int))"
      ],
      "execution_count": 58,
      "outputs": [
        {
          "output_type": "stream",
          "name": "stdout",
          "text": [
            "['__abs__', '__add__', '__and__', '__bool__', '__ceil__', '__class__', '__delattr__', '__dir__', '__divmod__', '__doc__', '__eq__', '__float__', '__floor__', '__floordiv__', '__format__', '__ge__', '__getattribute__', '__getnewargs__', '__gt__', '__hash__', '__index__', '__init__', '__init_subclass__', '__int__', '__invert__', '__le__', '__lshift__', '__lt__', '__mod__', '__mul__', '__ne__', '__neg__', '__new__', '__or__', '__pos__', '__pow__', '__radd__', '__rand__', '__rdivmod__', '__reduce__', '__reduce_ex__', '__repr__', '__rfloordiv__', '__rlshift__', '__rmod__', '__rmul__', '__ror__', '__round__', '__rpow__', '__rrshift__', '__rshift__', '__rsub__', '__rtruediv__', '__rxor__', '__setattr__', '__sizeof__', '__str__', '__sub__', '__subclasshook__', '__truediv__', '__trunc__', '__xor__', 'bit_length', 'conjugate', 'denominator', 'from_bytes', 'imag', 'numerator', 'real', 'to_bytes']\n"
          ]
        }
      ]
    },
    {
      "cell_type": "code",
      "metadata": {
        "colab": {
          "base_uri": "https://localhost:8080/"
        },
        "id": "R88xhjfA1C1l",
        "outputId": "c87af187-4b30-4809-9da4-b95dca6b364d"
      },
      "source": [
        "numOfPlanes = 10\n",
        "numSeats = 200\n",
        "totalSeats =  numOfPlanes * numSeats\n",
        "print(\"Total Number of Seats : \" + str(totalSeats))"
      ],
      "execution_count": 59,
      "outputs": [
        {
          "output_type": "stream",
          "name": "stdout",
          "text": [
            "Total Number of Seats : 2000\n"
          ]
        }
      ]
    },
    {
      "cell_type": "code",
      "metadata": {
        "colab": {
          "base_uri": "https://localhost:8080/"
        },
        "id": "xx9Bnt7f1Kks",
        "outputId": "b6c48c8c-e68a-4fa3-b536-8e849c4cda51"
      },
      "source": [
        "x = \"\"\"My name is \n",
        "Rishabh \n",
        "dkjsk\n",
        "sdksajd\n",
        "jksdaks \"\"\"\n",
        "print(x)"
      ],
      "execution_count": 60,
      "outputs": [
        {
          "output_type": "stream",
          "name": "stdout",
          "text": [
            "My name is \n",
            "Rishabh \n",
            "dkjsk\n",
            "sdksajd\n",
            "jksdaks \n"
          ]
        }
      ]
    },
    {
      "cell_type": "code",
      "metadata": {
        "colab": {
          "base_uri": "https://localhost:8080/"
        },
        "id": "3ELurakM1nu6",
        "outputId": "21b85968-aa37-4ee5-8116-1877dbe6a349"
      },
      "source": [
        "x =\"My nanme is Riusbahj \\n skdasfdhsajdl sadllsakjd ksadkjsa \\n saksad sakdsaj \\\\n here\"\n",
        "print(x)"
      ],
      "execution_count": 61,
      "outputs": [
        {
          "output_type": "stream",
          "name": "stdout",
          "text": [
            "My nanme is Riusbahj \n",
            " skdasfdhsajdl sadllsakjd ksadkjsa \n",
            " saksad sakdsaj \\n here\n"
          ]
        }
      ]
    },
    {
      "cell_type": "code",
      "metadata": {
        "id": "8yN5ET-G14EK"
      },
      "source": [
        "x =10"
      ],
      "execution_count": 62,
      "outputs": []
    },
    {
      "cell_type": "code",
      "metadata": {
        "colab": {
          "base_uri": "https://localhost:8080/"
        },
        "id": "YWY7A9UQ2GW-",
        "outputId": "5a203dbb-14d5-4ece-d925-8555cdf1c8e5"
      },
      "source": [
        "print(x)"
      ],
      "execution_count": 63,
      "outputs": [
        {
          "output_type": "stream",
          "name": "stdout",
          "text": [
            "10\n"
          ]
        }
      ]
    },
    {
      "cell_type": "code",
      "metadata": {
        "colab": {
          "base_uri": "https://localhost:8080/"
        },
        "id": "1BZal7iZ2Jhx",
        "outputId": "51102eea-56cf-489c-a5ad-40123758fff8"
      },
      "source": [
        "numOfPlanes = 10\n",
        "numSeats = 200\n",
        "totalSeats =  numOfPlanes * numSeats\n",
        "print(\"Total Number of Seats : \" + str(totalSeats))"
      ],
      "execution_count": 64,
      "outputs": [
        {
          "output_type": "stream",
          "name": "stdout",
          "text": [
            "Total Number of Seats : 2000\n"
          ]
        }
      ]
    },
    {
      "cell_type": "code",
      "metadata": {
        "colab": {
          "base_uri": "https://localhost:8080/"
        },
        "id": "OEpquYtV2pOG",
        "outputId": "3378aea7-b9bb-48e9-cec5-307d3ea2cae4"
      },
      "source": [
        "numOfPlanes = 10 # This is Number of Planes\n",
        "numSeats = 200  # This is Number of seats\n",
        "totalSeats =  numOfPlanes * numSeats\n",
        "print(\"Total Number of Seats : {}\".format(totalSeats))"
      ],
      "execution_count": 65,
      "outputs": [
        {
          "output_type": "stream",
          "name": "stdout",
          "text": [
            "Total Number of Seats : 2000\n"
          ]
        }
      ]
    },
    {
      "cell_type": "code",
      "metadata": {
        "id": "WKlQQCLz2wGj"
      },
      "source": [
        ""
      ],
      "execution_count": 65,
      "outputs": []
    }
  ]
}