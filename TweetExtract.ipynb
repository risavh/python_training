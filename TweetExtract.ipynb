{
  "nbformat": 4,
  "nbformat_minor": 0,
  "metadata": {
    "colab": {
      "name": "TweetExtract.ipynb",
      "provenance": [],
      "authorship_tag": "ABX9TyP6eKe0mB/VSU3PZxPh/6gw",
      "include_colab_link": true
    },
    "kernelspec": {
      "name": "python3",
      "display_name": "Python 3"
    },
    "language_info": {
      "name": "python"
    }
  },
  "cells": [
    {
      "cell_type": "markdown",
      "metadata": {
        "id": "view-in-github",
        "colab_type": "text"
      },
      "source": [
        "<a href=\"https://colab.research.google.com/github/risavh/python_training/blob/main/TweetExtract.ipynb\" target=\"_parent\"><img src=\"https://colab.research.google.com/assets/colab-badge.svg\" alt=\"Open In Colab\"/></a>"
      ]
    },
    {
      "cell_type": "code",
      "metadata": {
        "id": "5DBSQWijSeUd"
      },
      "source": [
        "## Libraries\n",
        "\n",
        "import tweepy\n",
        "from tweepy import OAuthHandler\n",
        "from textblob import TextBlob\n"
      ],
      "execution_count": 7,
      "outputs": []
    },
    {
      "cell_type": "code",
      "metadata": {
        "colab": {
          "base_uri": "https://localhost:8080/"
        },
        "id": "MirO76BTndom",
        "outputId": "4994c25a-49f9-4b32-8a06-ffaf44aee18c"
      },
      "source": [
        "from getpass import getpass\n",
        "consumer_key = getpass('Enter the consumer_key value: ')\n",
        "consumer_secret= getpass('Enter the consumer_secret value: ')\n",
        "access_token= getpass('Enter the access_token value: ')\n",
        "access_token_secret= getpass('Enter the access_token_secret value: ')"
      ],
      "execution_count": 2,
      "outputs": [
        {
          "name": "stdout",
          "output_type": "stream",
          "text": [
            "Enter the consumer_key value: ··········\n",
            "Enter the consumer_secret value: ··········\n",
            "Enter the access_token value: ··········\n",
            "Enter the access_token_secret value: ··········\n"
          ]
        }
      ]
    },
    {
      "cell_type": "code",
      "metadata": {
        "colab": {
          "base_uri": "https://localhost:8080/"
        },
        "id": "N7_wei-USi-2",
        "outputId": "e5f5f41c-8532-4558-a5fa-414185a4b781"
      },
      "source": [
        "# consumer_key=\"val1\"\n",
        "# consumer_secret=\"val2\"\n",
        "# access_token=\"val3\"\n",
        "# access_token_secret=\"val4\"\n",
        "\n",
        "auth = OAuthHandler(consumer_key, consumer_secret)\n",
        "auth.set_access_token(access_token, access_token_secret)\n",
        "api = tweepy.API(auth) \n",
        "\n",
        "print(\"Establishing stream...\\n\")\n",
        "\n",
        "srchQuery=\"qantas\"\n",
        "t1=tweepy.Cursor(api.search,q=srchQuery).items()\n",
        "#print(type(t1))\n",
        "\n"
      ],
      "execution_count": 5,
      "outputs": [
        {
          "output_type": "stream",
          "name": "stdout",
          "text": [
            "Establishing stream...\n",
            "\n"
          ]
        }
      ]
    },
    {
      "cell_type": "code",
      "metadata": {
        "colab": {
          "base_uri": "https://localhost:8080/"
        },
        "id": "oUFhq3IbSl1o",
        "outputId": "8e1f8cab-648e-4f92-dfb0-a93f784c5aaf"
      },
      "source": [
        "inx=0\n",
        "for idx,twts in enumerate(t1):\n",
        "    print(idx,\"---\",twts.text)\n",
        "    print(twts.created_at)\n",
        "    print(\"Sentiment:{}\".format(TextBlob(twts.text).sentiment.polarity))\n",
        "    inx+=1\n",
        "    print(\"_\"*150)\n",
        "    \n",
        "    if inx>=5:\n",
        "       break\n"
      ],
      "execution_count": 9,
      "outputs": [
        {
          "output_type": "stream",
          "name": "stdout",
          "text": [
            "0 --- RT @Triton214: COVID-free Sth Aus opened to NSW, Victoria and ACT only two days ago and already SA Health has listed 15 exposure sites rela…\n",
            "2021-11-26 01:02:26\n",
            "Sentiment:0.0\n",
            "______________________________________________________________________________________________________________________________________________________\n",
            "1 --- RT @ParentsFamily: 21 months in &amp; no end in sight! @qldhealth @QLDLabor @AnnastaciaMP @Qantas @DavidCrisafulli  @BrisbaneAirport @IATA #Rec…\n",
            "2021-11-26 01:01:34\n",
            "Sentiment:0.0\n",
            "______________________________________________________________________________________________________________________________________________________\n",
            "2 --- DING !! DING !!! @Qantas, it's Been 6 months without a reply from the Qantas Customer Service Team, surely that has… https://t.co/bEiCtnStIr\n",
            "2021-11-26 00:59:38\n",
            "Sentiment:0.5\n",
            "______________________________________________________________________________________________________________________________________________________\n",
            "3 --- @amandajadew @Qantas @StrikersWBBL Good luck Wello, go all the way for the Gades 👏\n",
            "2021-11-26 00:57:41\n",
            "Sentiment:0.7\n",
            "______________________________________________________________________________________________________________________________________________________\n",
            "4 --- RT @9NewsAdel: ALERT: Health authorities have issued a COVID alert after a passenger on a Qantas flight from Sydney to Adelaide tested posi…\n",
            "2021-11-26 00:55:02\n",
            "Sentiment:0.0\n",
            "______________________________________________________________________________________________________________________________________________________\n"
          ]
        }
      ]
    },
    {
      "cell_type": "code",
      "metadata": {
        "id": "PeqSOGu7zzP8"
      },
      "source": [
        ""
      ],
      "execution_count": null,
      "outputs": []
    }
  ]
}